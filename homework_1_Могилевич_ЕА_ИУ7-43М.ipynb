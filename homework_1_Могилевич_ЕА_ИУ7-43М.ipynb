{
 "cells": [
  {
   "cell_type": "markdown",
   "metadata": {},
   "source": [
    "# Домашнее задание № 1"
   ]
  },
  {
   "cell_type": "markdown",
   "metadata": {},
   "source": [
    "## Задание 1 (2 балла)"
   ]
  },
  {
   "cell_type": "code",
   "execution_count": 1,
   "metadata": {
    "tags": []
   },
   "outputs": [
    {
     "name": "stdout",
     "output_type": "stream",
     "text": [
      "Requirement already satisfied: pymystem3 in /opt/conda/lib/python3.10/site-packages (0.2.0)\n",
      "Requirement already satisfied: requests in /opt/conda/lib/python3.10/site-packages (from pymystem3) (2.28.2)\n",
      "Requirement already satisfied: urllib3<1.27,>=1.21.1 in /opt/conda/lib/python3.10/site-packages (from requests->pymystem3) (1.26.14)\n",
      "Requirement already satisfied: certifi>=2017.4.17 in /opt/conda/lib/python3.10/site-packages (from requests->pymystem3) (2022.12.7)\n",
      "Requirement already satisfied: idna<4,>=2.5 in /opt/conda/lib/python3.10/site-packages (from requests->pymystem3) (3.4)\n",
      "Requirement already satisfied: charset-normalizer<4,>=2 in /opt/conda/lib/python3.10/site-packages (from requests->pymystem3) (2.1.1)\n",
      "Requirement already satisfied: pymorphy2 in /opt/conda/lib/python3.10/site-packages (0.9.1)\n",
      "Requirement already satisfied: pymorphy2-dicts-ru<3.0,>=2.4 in /opt/conda/lib/python3.10/site-packages (from pymorphy2) (2.4.417127.4579844)\n",
      "Requirement already satisfied: dawg-python>=0.7.1 in /opt/conda/lib/python3.10/site-packages (from pymorphy2) (0.7.2)\n",
      "Requirement already satisfied: docopt>=0.6 in /opt/conda/lib/python3.10/site-packages (from pymorphy2) (0.6.2)\n",
      "Requirement already satisfied: razdel in /opt/conda/lib/python3.10/site-packages (0.5.0)\n",
      "Requirement already satisfied: gensim in /opt/conda/lib/python3.10/site-packages (3.8.2)\n",
      "Requirement already satisfied: six>=1.5.0 in /opt/conda/lib/python3.10/site-packages (from gensim) (1.16.0)\n",
      "Requirement already satisfied: smart-open>=1.8.1 in /opt/conda/lib/python3.10/site-packages (from gensim) (7.0.4)\n",
      "Requirement already satisfied: numpy>=1.11.3 in /opt/conda/lib/python3.10/site-packages (from gensim) (1.23.5)\n",
      "Requirement already satisfied: scipy>=1.0.0 in /opt/conda/lib/python3.10/site-packages (from gensim) (1.10.1)\n",
      "Requirement already satisfied: wrapt in /opt/conda/lib/python3.10/site-packages (from smart-open>=1.8.1->gensim) (1.16.0)\n",
      "Requirement already satisfied: nltk in /opt/conda/lib/python3.10/site-packages (3.8.1)\n",
      "Requirement already satisfied: regex>=2021.8.3 in /opt/conda/lib/python3.10/site-packages (from nltk) (2024.4.28)\n",
      "Requirement already satisfied: click in /opt/conda/lib/python3.10/site-packages (from nltk) (8.1.3)\n",
      "Requirement already satisfied: tqdm in /opt/conda/lib/python3.10/site-packages (from nltk) (4.64.1)\n",
      "Requirement already satisfied: joblib in /opt/conda/lib/python3.10/site-packages (from nltk) (1.2.0)\n",
      "Requirement already satisfied: rusenttokenize in /opt/conda/lib/python3.10/site-packages (0.0.5)\n",
      "Requirement already satisfied: regex in /opt/conda/lib/python3.10/site-packages (2024.4.28)\n"
     ]
    }
   ],
   "source": [
    "!pip install pymystem3\n",
    "!pip install pymorphy2\n",
    "!pip install razdel\n",
    "!pip install gensim\n",
    "!pip install nltk\n",
    "!pip install rusenttokenize\n",
    "!pip install regex"
   ]
  },
  {
   "cell_type": "markdown",
   "metadata": {},
   "source": [
    "Найдите 1 любой способ сломать токенизацию на предложения функцией sentenize из библиотеки razdel. Придумайте (или найдите на каком-то корпусе) такое предложение (или несколько предложений), которое будет некорректно разобрано sentenize, но при этом будет грамматически корректным. "
   ]
  },
  {
   "cell_type": "code",
   "execution_count": 4,
   "metadata": {
    "tags": []
   },
   "outputs": [
    {
     "data": {
      "text/plain": [
       "[Substring(0,\n",
       "           58,\n",
       "           'Ночь, улица, фонарь, аптека,\\nБессмысленный и тусклый свет.'),\n",
       " Substring(59, 103, 'Живи еще хоть четверть века -\\nВсе будет так.'),\n",
       " Substring(104, 115, 'Исхода нет.'),\n",
       " Substring(116,\n",
       "           226,\n",
       "           'Умрешь - начнешь опять сначала\\nИ повторится все, как встарь:\\nНочь, ледяная рябь канала,\\nАптека, улица, фонарь.')]"
      ]
     },
     "execution_count": 4,
     "metadata": {},
     "output_type": "execute_result"
    }
   ],
   "source": [
    "from razdel import sentenize\n",
    "\n",
    "text = \"\"\"Ночь, улица, фонарь, аптека,\n",
    "Бессмысленный и тусклый свет.\n",
    "Живи еще хоть четверть века -\n",
    "Все будет так. Исхода нет.\n",
    "Умрешь - начнешь опять сначала\n",
    "И повторится все, как встарь:\n",
    "Ночь, ледяная рябь канала,\n",
    "Аптека, улица, фонарь.\"\"\"\n",
    "\n",
    "list(sentenize(text)) # Стих Ok"
   ]
  },
  {
   "cell_type": "code",
   "execution_count": 6,
   "metadata": {
    "tags": []
   },
   "outputs": [
    {
     "data": {
      "text/plain": [
       "[Substring(0, 29, 'Кота звали L.А. Он был умный.'),\n",
       " Substring(30,\n",
       "           93,\n",
       "           'Взносы И.А. Люлёвым были увеличены в 2000 г. Все были удивлены!')]"
      ]
     },
     "execution_count": 6,
     "metadata": {},
     "output_type": "execute_result"
    }
   ],
   "source": [
    "text = \"\"\"Кота звали L.А. Он был умный. Взносы И.А. Люлёвым были увеличены в 2000 г. Все были удивлены!\"\"\"\n",
    "\n",
    "list(sentenize(text)) # Абривиатуры и Ок и не ок."
   ]
  },
  {
   "cell_type": "code",
   "execution_count": 7,
   "metadata": {
    "tags": []
   },
   "outputs": [
    {
     "data": {
      "text/plain": [
       "[Substring(0, 17, '«Где мои деньги!?'),\n",
       " Substring(18, 49, 'Любовский!?» — воскликнут он...')]"
      ]
     },
     "execution_count": 7,
     "metadata": {},
     "output_type": "execute_result"
    }
   ],
   "source": [
    "text = \"\"\"«Где мои деньги!? Любовский!?» — воскликнут он...\"\"\"\n",
    "\n",
    "list(sentenize(text)) # Тут по идее 3 предложения, прямую речь не осилил"
   ]
  },
  {
   "cell_type": "markdown",
   "metadata": {},
   "source": [
    "## 2. Токенизация Mystem vs razdel.tokenize (2 балла)\n",
    "\n",
    "\n",
    "Токенизируйте текст с помощью razdel и с помощью Mystem. Найдите различия в токенизациях. Что по вашему работает лучше на приведенном тексте?"
   ]
  },
  {
   "cell_type": "code",
   "execution_count": 10,
   "metadata": {
    "tags": []
   },
   "outputs": [],
   "source": [
    "text = \"\"\"\n",
    "Вторым и третьим открытыми белыми карликами стали Сириус B и Процион B. В 1844 году директор Кёнигсбергской обсерватории Фридрих Бессель, анализируя данные наблюдений, которые велись с 1755 года, обнаружил, что Сириус, ярчайшая звезда земного неба, и Процион периодически, хотя и весьма слабо, отклоняются от прямолинейной траектории движения по небесной сфере[5]. Бессель пришёл к выводу, что у каждой из них должен быть близкий спутник. Сообщение было встречено скептически, поскольку слабый спутник оставался ненаблюдаемым, а его масса должна была быть достаточно велика — сравнимой с массой Сириуса и Проциона, соответственно.\n",
    "\n",
    "В январе 1862 года Элвин Грэхэм Кларк, юстируя 18-дюймовый рефрактор, самый большой на то время телескоп в мире (Dearborn Telescope), впоследствии поставленный семейной фирмой Кларков в обсерваторию Чикагского университета, обнаружил в непосредственной близости от Сириуса тусклую звёздочку. Это был спутник Сириуса, Сириус B, предсказанный Бесселем[6]. А в 1896 году американский астроном Д. М. Шеберле открыл Процион B, подтвердив тем самым и второе предсказание Бесселя.\n",
    "\n",
    "В 1915 году американский астроном Уолтер Сидней Адамс измерил спектр Сириуса B. Из измерений следовало, что его температура не ниже, чем у Сириуса A (по современным данным, температура поверхности Сириуса B составляет 25 000 K, а Сириуса A — 10 000 К), что, с учётом его в 10 000 раз меньшей, чем у Сириуса A, светимости указывает на очень малый радиус и, соответственно, высокую плотность — 106 г/см3 (плотность Сириуса ~0,25 г/см3, плотность Солнца ~1,4 г/см3).\n",
    "\"\"\""
   ]
  },
  {
   "cell_type": "code",
   "execution_count": 19,
   "metadata": {
    "tags": []
   },
   "outputs": [
    {
     "name": "stdout",
     "output_type": "stream",
     "text": [
      "292 174\n"
     ]
    }
   ],
   "source": [
    "from razdel import tokenize as razdel_tokenize\n",
    "\n",
    "tokens = [t.text for t in razdel_tokenize(text)]\n",
    "print(len(tokens), len(set(tokens)))\n",
    "tokens[:10]\n",
    "\n",
    "razdel_set = set(tokens)"
   ]
  },
  {
   "cell_type": "code",
   "execution_count": 20,
   "metadata": {
    "tags": []
   },
   "outputs": [
    {
     "name": "stdout",
     "output_type": "stream",
     "text": [
      "475 181\n"
     ]
    }
   ],
   "source": [
    "from pymystem3 import Mystem\n",
    "m = Mystem()\n",
    "anal = m.analyze(text)\n",
    "\n",
    "tokens = [t['text'] for t in anal]\n",
    "print(len(tokens), len(set(tokens)))\n",
    "tokens[:10]\n",
    "\n",
    "mystem_set = set(tokens)"
   ]
  },
  {
   "cell_type": "code",
   "execution_count": 21,
   "metadata": {
    "tags": []
   },
   "outputs": [
    {
     "data": {
      "text/plain": [
       "{'\\n',\n",
       " ' ',\n",
       " ' (',\n",
       " ' ~',\n",
       " ' — ',\n",
       " '(',\n",
       " '), ',\n",
       " ', ',\n",
       " '-',\n",
       " '. ',\n",
       " '0',\n",
       " '0,25',\n",
       " '1',\n",
       " '1,4',\n",
       " '18',\n",
       " '18-дюймовый',\n",
       " '3',\n",
       " '4',\n",
       " '~',\n",
       " 'дюймовый',\n",
       " 'см',\n",
       " 'см3',\n",
       " '—'}"
      ]
     },
     "execution_count": 21,
     "metadata": {},
     "output_type": "execute_result"
    }
   ],
   "source": [
    "razdel_set.symmetric_difference(mystem_set)"
   ]
  },
  {
   "cell_type": "code",
   "execution_count": 23,
   "metadata": {
    "tags": []
   },
   "outputs": [
    {
     "data": {
      "text/plain": [
       "False"
      ]
     },
     "execution_count": 23,
     "metadata": {},
     "output_type": "execute_result"
    }
   ],
   "source": [
    "'18-дюймовый' in  mystem_set\n",
    "\n",
    "# Я считаю что токенизация razdel немного лучше ща счёт меньшего числа токенов, библеотека Mystem плодит токены\n",
    "# за счёт обьединения пробелов со знаками препинания, и не разделения слов через дефис. Что может привести к огромному числу токенов означающих ту же диогональ экрана. \n",
    "# Но с другой стороны с направлениями света данный подход может сработать лучше"
   ]
  },
  {
   "cell_type": "markdown",
   "metadata": {},
   "source": [
    "## 3. Лемматизация Mystem vs Pymorphy (2 балла)"
   ]
  },
  {
   "cell_type": "markdown",
   "metadata": {},
   "source": [
    "Лемматизируйте текст с помощью mystem и pymorphy. Найдите различия в лемматизации. Что по вашему работает лучше на приведенном тексте?"
   ]
  },
  {
   "cell_type": "markdown",
   "metadata": {},
   "source": [
    "Важно: для пайморфи используйте токенизацию из mystem, чтобы исключить влияние токенизации на результат. Анализируйте только значимые различия, а не технические особенности (не сравнивайте скорость работы и удобность интерфейса)."
   ]
  },
  {
   "cell_type": "code",
   "execution_count": 24,
   "metadata": {
    "tags": []
   },
   "outputs": [],
   "source": [
    "base_tokens = list(mystem_set)"
   ]
  },
  {
   "cell_type": "code",
   "execution_count": 40,
   "metadata": {
    "tags": []
   },
   "outputs": [
    {
     "name": "stdout",
     "output_type": "stream",
     "text": [
      "181 159\n"
     ]
    },
    {
     "data": {
      "text/plain": [
       "['B',\n",
       " 'кларк',\n",
       " 'яркий',\n",
       " 'малый',\n",
       " 'звезда',\n",
       " 'составлять',\n",
       " 'процион',\n",
       " 'сириус',\n",
       " 'достаточно',\n",
       " 'K']"
      ]
     },
     "execution_count": 40,
     "metadata": {},
     "output_type": "execute_result"
    }
   ],
   "source": [
    "mystem_lemma = [m.lemmatize(token)[0] for token in base_tokens]\n",
    "print(len(mystem_lemma), len(set(mystem_lemma)))\n",
    "\n",
    "mystem_lemma_set = set(mystem_lemma)\n",
    "mystem_lemma[:10]"
   ]
  },
  {
   "cell_type": "code",
   "execution_count": 35,
   "metadata": {
    "tags": []
   },
   "outputs": [
    {
     "name": "stdout",
     "output_type": "stream",
     "text": [
      "181 177\n"
     ]
    },
    {
     "data": {
      "text/plain": [
       "['b',\n",
       " 'кларк',\n",
       " 'ярчайшая',\n",
       " 'малый',\n",
       " 'звезда',\n",
       " 'составляет',\n",
       " 'процион',\n",
       " 'сириуса',\n",
       " 'достаточно',\n",
       " 'k']"
      ]
     },
     "execution_count": 35,
     "metadata": {},
     "output_type": "execute_result"
    }
   ],
   "source": [
    "from pymorphy2 import MorphAnalyzer\n",
    "morph = MorphAnalyzer()\n",
    "morph_lemma = [morph.parse(token)[0].word for token in base_tokens]\n",
    "print(len(morph_lemma), len(set(morph_lemma)))\n",
    "\n",
    "morph_lemma_set = set(morph_lemma)\n",
    "morph_lemma[:10]"
   ]
  },
  {
   "cell_type": "code",
   "execution_count": 41,
   "metadata": {
    "tags": []
   },
   "outputs": [
    {
     "data": {
      "text/plain": [
       "{' ',\n",
       " ' \\n',\n",
       " ' (',\n",
       " ' (\\n',\n",
       " ' ~',\n",
       " ' ~\\n',\n",
       " ' — ',\n",
       " ' — \\n',\n",
       " ')',\n",
       " ')\\n',\n",
       " '), ',\n",
       " '), \\n',\n",
       " ',',\n",
       " ',\\n',\n",
       " ', ',\n",
       " ', \\n',\n",
       " '-',\n",
       " '-\\n',\n",
       " '. ',\n",
       " '/',\n",
       " '/\\n',\n",
       " 'A',\n",
       " 'B',\n",
       " 'Dearborn',\n",
       " 'K',\n",
       " 'Telescope',\n",
       " '[',\n",
       " '[\\n',\n",
       " ']',\n",
       " ']\\n',\n",
       " 'a',\n",
       " 'b',\n",
       " 'dearborn',\n",
       " 'k',\n",
       " 'telescope',\n",
       " 'анализировать',\n",
       " 'анализируя',\n",
       " 'белый',\n",
       " 'белыми',\n",
       " 'бесселем',\n",
       " 'бесселя',\n",
       " 'близости',\n",
       " 'близость',\n",
       " 'был',\n",
       " 'была',\n",
       " 'было',\n",
       " 'велика',\n",
       " 'велись',\n",
       " 'вестись',\n",
       " 'встречать',\n",
       " 'встречено',\n",
       " 'второе',\n",
       " 'второй',\n",
       " 'вторым',\n",
       " 'вывод',\n",
       " 'выводу',\n",
       " 'высокий',\n",
       " 'высокую',\n",
       " 'год',\n",
       " 'года',\n",
       " 'году',\n",
       " 'данный',\n",
       " 'данным',\n",
       " 'движение',\n",
       " 'движения',\n",
       " 'должен',\n",
       " 'должна',\n",
       " 'должный',\n",
       " 'его',\n",
       " 'звездочка',\n",
       " 'звёздочку',\n",
       " 'земного',\n",
       " 'земной',\n",
       " 'измерение',\n",
       " 'измерений',\n",
       " 'измерил',\n",
       " 'измерять',\n",
       " 'каждой',\n",
       " 'каждый',\n",
       " 'карлик',\n",
       " 'карликами',\n",
       " 'кенигсбергский',\n",
       " 'кларков',\n",
       " 'которые',\n",
       " 'который',\n",
       " 'кёнигсбергской',\n",
       " 'массой',\n",
       " 'меньшей',\n",
       " 'меньший',\n",
       " 'мир',\n",
       " 'мире',\n",
       " 'наблюдение',\n",
       " 'наблюдений',\n",
       " 'неба',\n",
       " 'небесной',\n",
       " 'небесный',\n",
       " 'небо',\n",
       " 'ненаблюдаемый',\n",
       " 'ненаблюдаемым',\n",
       " 'непосредственной',\n",
       " 'непосредственный',\n",
       " 'них',\n",
       " 'обнаруживать',\n",
       " 'обнаружил',\n",
       " 'обсерватории',\n",
       " 'обсерваторию',\n",
       " 'обсерватория',\n",
       " 'он',\n",
       " 'они',\n",
       " 'оставался',\n",
       " 'оставаться',\n",
       " 'отклоняться',\n",
       " 'отклоняются',\n",
       " 'открывать',\n",
       " 'открыл',\n",
       " 'открытый',\n",
       " 'открытыми',\n",
       " 'поверхности',\n",
       " 'поверхность',\n",
       " 'подтвердив',\n",
       " 'подтвердить',\n",
       " 'поставленный',\n",
       " 'поставлять',\n",
       " 'предсказанный',\n",
       " 'предсказывать',\n",
       " 'приходить',\n",
       " 'пришёл',\n",
       " 'проциона',\n",
       " 'прямолинейной',\n",
       " 'прямолинейный',\n",
       " 'самым',\n",
       " 'светимости',\n",
       " 'светимость',\n",
       " 'семейной',\n",
       " 'семейный',\n",
       " 'сириуса',\n",
       " 'следовало',\n",
       " 'следовать',\n",
       " 'современный',\n",
       " 'современным',\n",
       " 'солнца',\n",
       " 'солнце',\n",
       " 'составляет',\n",
       " 'составлять',\n",
       " 'сравнимой',\n",
       " 'сравнимый',\n",
       " 'стали',\n",
       " 'становиться',\n",
       " 'сфера',\n",
       " 'сфере',\n",
       " 'тем',\n",
       " 'траектории',\n",
       " 'траектория',\n",
       " 'третий',\n",
       " 'третьим',\n",
       " 'тусклую',\n",
       " 'тусклый',\n",
       " 'указывает',\n",
       " 'указывать',\n",
       " 'университет',\n",
       " 'университета',\n",
       " 'учет',\n",
       " 'учётом',\n",
       " 'фирма',\n",
       " 'фирмой',\n",
       " 'чем',\n",
       " 'чикагский',\n",
       " 'чикагского',\n",
       " 'шеберле',\n",
       " 'шеберль',\n",
       " 'юстировать',\n",
       " 'юстируя',\n",
       " 'январе',\n",
       " 'январь',\n",
       " 'яркий',\n",
       " 'ярчайшая'}"
      ]
     },
     "execution_count": 41,
     "metadata": {},
     "output_type": "execute_result"
    }
   ],
   "source": [
    "morph_lemma_set.symmetric_difference(mystem_lemma)"
   ]
  },
  {
   "cell_type": "code",
   "execution_count": 48,
   "metadata": {
    "tags": []
   },
   "outputs": [
    {
     "data": {
      "text/plain": [
       "True"
      ]
     },
     "execution_count": 48,
     "metadata": {},
     "output_type": "execute_result"
    }
   ],
   "source": [
    "'второе' in morph_lemma_set\n",
    "'отклоняются' in morph_lemma_set\n",
    "'небесной' in morph_lemma_set\n",
    "'белыми' in morph_lemma_set\n",
    "'году' in morph_lemma_set\n",
    "'года' in morph_lemma_set\n",
    "\n",
    "# PyMorph справился заметно хуже, имеется множество ошибок в выборе окончания при лемматицации, ведущих в том чисоле к дубликатам (слово год)"
   ]
  },
  {
   "cell_type": "markdown",
   "metadata": {},
   "source": [
    "## 4. Лемматизация в SpaCy (2 балла)\n",
    "\n",
    "С помощью Spacy (модель для русского языка) лемматизируйте тот же текст. Проверьте есть ли различия с Mystem и Pymoprhy."
   ]
  },
  {
   "cell_type": "code",
   "execution_count": 50,
   "metadata": {
    "tags": []
   },
   "outputs": [
    {
     "name": "stdout",
     "output_type": "stream",
     "text": [
      "Requirement already satisfied: spacy in /opt/conda/lib/python3.10/site-packages (3.7.4)\n",
      "Requirement already satisfied: murmurhash<1.1.0,>=0.28.0 in /opt/conda/lib/python3.10/site-packages (from spacy) (1.0.10)\n",
      "Requirement already satisfied: packaging>=20.0 in /opt/conda/lib/python3.10/site-packages (from spacy) (23.0)\n",
      "Requirement already satisfied: catalogue<2.1.0,>=2.0.6 in /opt/conda/lib/python3.10/site-packages (from spacy) (2.0.10)\n",
      "Requirement already satisfied: cymem<2.1.0,>=2.0.2 in /opt/conda/lib/python3.10/site-packages (from spacy) (2.0.8)\n",
      "Requirement already satisfied: langcodes<4.0.0,>=3.2.0 in /opt/conda/lib/python3.10/site-packages (from spacy) (3.4.0)\n",
      "Requirement already satisfied: tqdm<5.0.0,>=4.38.0 in /opt/conda/lib/python3.10/site-packages (from spacy) (4.64.1)\n",
      "Requirement already satisfied: smart-open<7.0.0,>=5.2.1 in /opt/conda/lib/python3.10/site-packages (from spacy) (6.4.0)\n",
      "Requirement already satisfied: spacy-loggers<2.0.0,>=1.0.0 in /opt/conda/lib/python3.10/site-packages (from spacy) (1.0.5)\n",
      "Requirement already satisfied: typer<0.10.0,>=0.3.0 in /opt/conda/lib/python3.10/site-packages (from spacy) (0.9.4)\n",
      "Requirement already satisfied: jinja2 in /opt/conda/lib/python3.10/site-packages (from spacy) (3.1.2)\n",
      "Requirement already satisfied: setuptools in /opt/conda/lib/python3.10/site-packages (from spacy) (67.4.0)\n",
      "Requirement already satisfied: spacy-legacy<3.1.0,>=3.0.11 in /opt/conda/lib/python3.10/site-packages (from spacy) (3.0.12)\n",
      "Requirement already satisfied: pydantic!=1.8,!=1.8.1,<3.0.0,>=1.7.4 in /opt/conda/lib/python3.10/site-packages (from spacy) (2.7.1)\n",
      "Requirement already satisfied: numpy>=1.19.0 in /opt/conda/lib/python3.10/site-packages (from spacy) (1.23.5)\n",
      "Requirement already satisfied: thinc<8.3.0,>=8.2.2 in /opt/conda/lib/python3.10/site-packages (from spacy) (8.2.3)\n",
      "Requirement already satisfied: weasel<0.4.0,>=0.1.0 in /opt/conda/lib/python3.10/site-packages (from spacy) (0.3.4)\n",
      "Requirement already satisfied: preshed<3.1.0,>=3.0.2 in /opt/conda/lib/python3.10/site-packages (from spacy) (3.0.9)\n",
      "Requirement already satisfied: srsly<3.0.0,>=2.4.3 in /opt/conda/lib/python3.10/site-packages (from spacy) (2.4.8)\n",
      "Requirement already satisfied: requests<3.0.0,>=2.13.0 in /opt/conda/lib/python3.10/site-packages (from spacy) (2.28.2)\n",
      "Requirement already satisfied: wasabi<1.2.0,>=0.9.1 in /opt/conda/lib/python3.10/site-packages (from spacy) (1.1.2)\n",
      "Requirement already satisfied: language-data>=1.2 in /opt/conda/lib/python3.10/site-packages (from langcodes<4.0.0,>=3.2.0->spacy) (1.2.0)\n",
      "Requirement already satisfied: typing-extensions>=4.6.1 in /opt/conda/lib/python3.10/site-packages (from pydantic!=1.8,!=1.8.1,<3.0.0,>=1.7.4->spacy) (4.11.0)\n",
      "Requirement already satisfied: annotated-types>=0.4.0 in /opt/conda/lib/python3.10/site-packages (from pydantic!=1.8,!=1.8.1,<3.0.0,>=1.7.4->spacy) (0.6.0)\n",
      "Requirement already satisfied: pydantic-core==2.18.2 in /opt/conda/lib/python3.10/site-packages (from pydantic!=1.8,!=1.8.1,<3.0.0,>=1.7.4->spacy) (2.18.2)\n",
      "Requirement already satisfied: certifi>=2017.4.17 in /opt/conda/lib/python3.10/site-packages (from requests<3.0.0,>=2.13.0->spacy) (2022.12.7)\n",
      "Requirement already satisfied: urllib3<1.27,>=1.21.1 in /opt/conda/lib/python3.10/site-packages (from requests<3.0.0,>=2.13.0->spacy) (1.26.14)\n",
      "Requirement already satisfied: idna<4,>=2.5 in /opt/conda/lib/python3.10/site-packages (from requests<3.0.0,>=2.13.0->spacy) (3.4)\n",
      "Requirement already satisfied: charset-normalizer<4,>=2 in /opt/conda/lib/python3.10/site-packages (from requests<3.0.0,>=2.13.0->spacy) (2.1.1)\n",
      "Requirement already satisfied: blis<0.8.0,>=0.7.8 in /opt/conda/lib/python3.10/site-packages (from thinc<8.3.0,>=8.2.2->spacy) (0.7.11)\n",
      "Requirement already satisfied: confection<1.0.0,>=0.0.1 in /opt/conda/lib/python3.10/site-packages (from thinc<8.3.0,>=8.2.2->spacy) (0.1.4)\n",
      "Requirement already satisfied: click<9.0.0,>=7.1.1 in /opt/conda/lib/python3.10/site-packages (from typer<0.10.0,>=0.3.0->spacy) (8.1.3)\n",
      "Requirement already satisfied: cloudpathlib<0.17.0,>=0.7.0 in /opt/conda/lib/python3.10/site-packages (from weasel<0.4.0,>=0.1.0->spacy) (0.16.0)\n",
      "Requirement already satisfied: MarkupSafe>=2.0 in /opt/conda/lib/python3.10/site-packages (from jinja2->spacy) (2.1.2)\n",
      "Requirement already satisfied: marisa-trie>=0.7.7 in /opt/conda/lib/python3.10/site-packages (from language-data>=1.2->langcodes<4.0.0,>=3.2.0->spacy) (1.1.0)\n",
      "Collecting en-core-web-sm==3.7.1\n",
      "  Using cached https://github.com/explosion/spacy-models/releases/download/en_core_web_sm-3.7.1/en_core_web_sm-3.7.1-py3-none-any.whl (12.8 MB)\n",
      "Requirement already satisfied: spacy<3.8.0,>=3.7.2 in /opt/conda/lib/python3.10/site-packages (from en-core-web-sm==3.7.1) (3.7.4)\n",
      "Requirement already satisfied: typer<0.10.0,>=0.3.0 in /opt/conda/lib/python3.10/site-packages (from spacy<3.8.0,>=3.7.2->en-core-web-sm==3.7.1) (0.9.4)\n",
      "Requirement already satisfied: srsly<3.0.0,>=2.4.3 in /opt/conda/lib/python3.10/site-packages (from spacy<3.8.0,>=3.7.2->en-core-web-sm==3.7.1) (2.4.8)\n",
      "Requirement already satisfied: spacy-loggers<2.0.0,>=1.0.0 in /opt/conda/lib/python3.10/site-packages (from spacy<3.8.0,>=3.7.2->en-core-web-sm==3.7.1) (1.0.5)\n",
      "Requirement already satisfied: smart-open<7.0.0,>=5.2.1 in /opt/conda/lib/python3.10/site-packages (from spacy<3.8.0,>=3.7.2->en-core-web-sm==3.7.1) (6.4.0)\n",
      "Requirement already satisfied: requests<3.0.0,>=2.13.0 in /opt/conda/lib/python3.10/site-packages (from spacy<3.8.0,>=3.7.2->en-core-web-sm==3.7.1) (2.28.2)\n",
      "Requirement already satisfied: wasabi<1.2.0,>=0.9.1 in /opt/conda/lib/python3.10/site-packages (from spacy<3.8.0,>=3.7.2->en-core-web-sm==3.7.1) (1.1.2)\n",
      "Requirement already satisfied: tqdm<5.0.0,>=4.38.0 in /opt/conda/lib/python3.10/site-packages (from spacy<3.8.0,>=3.7.2->en-core-web-sm==3.7.1) (4.64.1)\n",
      "Requirement already satisfied: cymem<2.1.0,>=2.0.2 in /opt/conda/lib/python3.10/site-packages (from spacy<3.8.0,>=3.7.2->en-core-web-sm==3.7.1) (2.0.8)\n",
      "Requirement already satisfied: spacy-legacy<3.1.0,>=3.0.11 in /opt/conda/lib/python3.10/site-packages (from spacy<3.8.0,>=3.7.2->en-core-web-sm==3.7.1) (3.0.12)\n",
      "Requirement already satisfied: pydantic!=1.8,!=1.8.1,<3.0.0,>=1.7.4 in /opt/conda/lib/python3.10/site-packages (from spacy<3.8.0,>=3.7.2->en-core-web-sm==3.7.1) (2.7.1)\n",
      "Requirement already satisfied: weasel<0.4.0,>=0.1.0 in /opt/conda/lib/python3.10/site-packages (from spacy<3.8.0,>=3.7.2->en-core-web-sm==3.7.1) (0.3.4)\n",
      "Requirement already satisfied: thinc<8.3.0,>=8.2.2 in /opt/conda/lib/python3.10/site-packages (from spacy<3.8.0,>=3.7.2->en-core-web-sm==3.7.1) (8.2.3)\n",
      "Requirement already satisfied: numpy>=1.19.0 in /opt/conda/lib/python3.10/site-packages (from spacy<3.8.0,>=3.7.2->en-core-web-sm==3.7.1) (1.23.5)\n",
      "Requirement already satisfied: jinja2 in /opt/conda/lib/python3.10/site-packages (from spacy<3.8.0,>=3.7.2->en-core-web-sm==3.7.1) (3.1.2)\n",
      "Requirement already satisfied: murmurhash<1.1.0,>=0.28.0 in /opt/conda/lib/python3.10/site-packages (from spacy<3.8.0,>=3.7.2->en-core-web-sm==3.7.1) (1.0.10)\n",
      "Requirement already satisfied: preshed<3.1.0,>=3.0.2 in /opt/conda/lib/python3.10/site-packages (from spacy<3.8.0,>=3.7.2->en-core-web-sm==3.7.1) (3.0.9)\n",
      "Requirement already satisfied: packaging>=20.0 in /opt/conda/lib/python3.10/site-packages (from spacy<3.8.0,>=3.7.2->en-core-web-sm==3.7.1) (23.0)\n",
      "Requirement already satisfied: setuptools in /opt/conda/lib/python3.10/site-packages (from spacy<3.8.0,>=3.7.2->en-core-web-sm==3.7.1) (67.4.0)\n",
      "Requirement already satisfied: catalogue<2.1.0,>=2.0.6 in /opt/conda/lib/python3.10/site-packages (from spacy<3.8.0,>=3.7.2->en-core-web-sm==3.7.1) (2.0.10)\n",
      "Requirement already satisfied: langcodes<4.0.0,>=3.2.0 in /opt/conda/lib/python3.10/site-packages (from spacy<3.8.0,>=3.7.2->en-core-web-sm==3.7.1) (3.4.0)\n",
      "Requirement already satisfied: language-data>=1.2 in /opt/conda/lib/python3.10/site-packages (from langcodes<4.0.0,>=3.2.0->spacy<3.8.0,>=3.7.2->en-core-web-sm==3.7.1) (1.2.0)\n",
      "Requirement already satisfied: pydantic-core==2.18.2 in /opt/conda/lib/python3.10/site-packages (from pydantic!=1.8,!=1.8.1,<3.0.0,>=1.7.4->spacy<3.8.0,>=3.7.2->en-core-web-sm==3.7.1) (2.18.2)\n",
      "Requirement already satisfied: typing-extensions>=4.6.1 in /opt/conda/lib/python3.10/site-packages (from pydantic!=1.8,!=1.8.1,<3.0.0,>=1.7.4->spacy<3.8.0,>=3.7.2->en-core-web-sm==3.7.1) (4.11.0)\n",
      "Requirement already satisfied: annotated-types>=0.4.0 in /opt/conda/lib/python3.10/site-packages (from pydantic!=1.8,!=1.8.1,<3.0.0,>=1.7.4->spacy<3.8.0,>=3.7.2->en-core-web-sm==3.7.1) (0.6.0)\n",
      "Requirement already satisfied: certifi>=2017.4.17 in /opt/conda/lib/python3.10/site-packages (from requests<3.0.0,>=2.13.0->spacy<3.8.0,>=3.7.2->en-core-web-sm==3.7.1) (2022.12.7)\n",
      "Requirement already satisfied: idna<4,>=2.5 in /opt/conda/lib/python3.10/site-packages (from requests<3.0.0,>=2.13.0->spacy<3.8.0,>=3.7.2->en-core-web-sm==3.7.1) (3.4)\n",
      "Requirement already satisfied: charset-normalizer<4,>=2 in /opt/conda/lib/python3.10/site-packages (from requests<3.0.0,>=2.13.0->spacy<3.8.0,>=3.7.2->en-core-web-sm==3.7.1) (2.1.1)\n",
      "Requirement already satisfied: urllib3<1.27,>=1.21.1 in /opt/conda/lib/python3.10/site-packages (from requests<3.0.0,>=2.13.0->spacy<3.8.0,>=3.7.2->en-core-web-sm==3.7.1) (1.26.14)\n",
      "Requirement already satisfied: blis<0.8.0,>=0.7.8 in /opt/conda/lib/python3.10/site-packages (from thinc<8.3.0,>=8.2.2->spacy<3.8.0,>=3.7.2->en-core-web-sm==3.7.1) (0.7.11)\n",
      "Requirement already satisfied: confection<1.0.0,>=0.0.1 in /opt/conda/lib/python3.10/site-packages (from thinc<8.3.0,>=8.2.2->spacy<3.8.0,>=3.7.2->en-core-web-sm==3.7.1) (0.1.4)\n",
      "Requirement already satisfied: click<9.0.0,>=7.1.1 in /opt/conda/lib/python3.10/site-packages (from typer<0.10.0,>=0.3.0->spacy<3.8.0,>=3.7.2->en-core-web-sm==3.7.1) (8.1.3)\n",
      "Requirement already satisfied: cloudpathlib<0.17.0,>=0.7.0 in /opt/conda/lib/python3.10/site-packages (from weasel<0.4.0,>=0.1.0->spacy<3.8.0,>=3.7.2->en-core-web-sm==3.7.1) (0.16.0)\n",
      "Requirement already satisfied: MarkupSafe>=2.0 in /opt/conda/lib/python3.10/site-packages (from jinja2->spacy<3.8.0,>=3.7.2->en-core-web-sm==3.7.1) (2.1.2)\n",
      "Requirement already satisfied: marisa-trie>=0.7.7 in /opt/conda/lib/python3.10/site-packages (from language-data>=1.2->langcodes<4.0.0,>=3.2.0->spacy<3.8.0,>=3.7.2->en-core-web-sm==3.7.1) (1.1.0)\n",
      "\u001b[38;5;2m✔ Download and installation successful\u001b[0m\n",
      "You can now load the package via spacy.load('en_core_web_sm')\n",
      "Collecting ru-core-news-sm==3.7.0\n",
      "  Downloading https://github.com/explosion/spacy-models/releases/download/ru_core_news_sm-3.7.0/ru_core_news_sm-3.7.0-py3-none-any.whl (15.3 MB)\n",
      "\u001b[2K     \u001b[90m━━━━━━━━━━━━━━━━━━━━━━━━━━━━━━━━━━━━━━━━\u001b[0m \u001b[32m15.3/15.3 MB\u001b[0m \u001b[31m51.0 MB/s\u001b[0m eta \u001b[36m0:00:00\u001b[0m00:01\u001b[0m00:01\u001b[0m\n",
      "\u001b[?25hCollecting pymorphy3>=1.0.0\n",
      "  Downloading pymorphy3-2.0.1-py3-none-any.whl (53 kB)\n",
      "\u001b[2K     \u001b[90m━━━━━━━━━━━━━━━━━━━━━━━━━━━━━━━━━━━━━━━\u001b[0m \u001b[32m53.2/53.2 kB\u001b[0m \u001b[31m866.9 kB/s\u001b[0m eta \u001b[36m0:00:00\u001b[0m \u001b[36m0:00:01\u001b[0m\n",
      "\u001b[?25hRequirement already satisfied: spacy<3.8.0,>=3.7.0 in /opt/conda/lib/python3.10/site-packages (from ru-core-news-sm==3.7.0) (3.7.4)\n",
      "Collecting pymorphy3-dicts-ru\n",
      "  Downloading pymorphy3_dicts_ru-2.4.417150.4580142-py2.py3-none-any.whl (8.4 MB)\n",
      "\u001b[2K     \u001b[90m━━━━━━━━━━━━━━━━━━━━━━━━━━━━━━━━━━━━━━━━\u001b[0m \u001b[32m8.4/8.4 MB\u001b[0m \u001b[31m23.4 MB/s\u001b[0m eta \u001b[36m0:00:00\u001b[0m00:01\u001b[0m00:01\u001b[0m\n",
      "\u001b[?25hRequirement already satisfied: dawg-python>=0.7.1 in /opt/conda/lib/python3.10/site-packages (from pymorphy3>=1.0.0->ru-core-news-sm==3.7.0) (0.7.2)\n",
      "Requirement already satisfied: setuptools in /opt/conda/lib/python3.10/site-packages (from spacy<3.8.0,>=3.7.0->ru-core-news-sm==3.7.0) (67.4.0)\n",
      "Requirement already satisfied: wasabi<1.2.0,>=0.9.1 in /opt/conda/lib/python3.10/site-packages (from spacy<3.8.0,>=3.7.0->ru-core-news-sm==3.7.0) (1.1.2)\n",
      "Requirement already satisfied: spacy-loggers<2.0.0,>=1.0.0 in /opt/conda/lib/python3.10/site-packages (from spacy<3.8.0,>=3.7.0->ru-core-news-sm==3.7.0) (1.0.5)\n",
      "Requirement already satisfied: spacy-legacy<3.1.0,>=3.0.11 in /opt/conda/lib/python3.10/site-packages (from spacy<3.8.0,>=3.7.0->ru-core-news-sm==3.7.0) (3.0.12)\n",
      "Requirement already satisfied: langcodes<4.0.0,>=3.2.0 in /opt/conda/lib/python3.10/site-packages (from spacy<3.8.0,>=3.7.0->ru-core-news-sm==3.7.0) (3.4.0)\n",
      "Requirement already satisfied: tqdm<5.0.0,>=4.38.0 in /opt/conda/lib/python3.10/site-packages (from spacy<3.8.0,>=3.7.0->ru-core-news-sm==3.7.0) (4.64.1)\n",
      "Requirement already satisfied: packaging>=20.0 in /opt/conda/lib/python3.10/site-packages (from spacy<3.8.0,>=3.7.0->ru-core-news-sm==3.7.0) (23.0)\n",
      "Requirement already satisfied: jinja2 in /opt/conda/lib/python3.10/site-packages (from spacy<3.8.0,>=3.7.0->ru-core-news-sm==3.7.0) (3.1.2)\n",
      "Requirement already satisfied: catalogue<2.1.0,>=2.0.6 in /opt/conda/lib/python3.10/site-packages (from spacy<3.8.0,>=3.7.0->ru-core-news-sm==3.7.0) (2.0.10)\n",
      "Requirement already satisfied: weasel<0.4.0,>=0.1.0 in /opt/conda/lib/python3.10/site-packages (from spacy<3.8.0,>=3.7.0->ru-core-news-sm==3.7.0) (0.3.4)\n",
      "Requirement already satisfied: typer<0.10.0,>=0.3.0 in /opt/conda/lib/python3.10/site-packages (from spacy<3.8.0,>=3.7.0->ru-core-news-sm==3.7.0) (0.9.4)\n",
      "Requirement already satisfied: requests<3.0.0,>=2.13.0 in /opt/conda/lib/python3.10/site-packages (from spacy<3.8.0,>=3.7.0->ru-core-news-sm==3.7.0) (2.28.2)\n",
      "Requirement already satisfied: smart-open<7.0.0,>=5.2.1 in /opt/conda/lib/python3.10/site-packages (from spacy<3.8.0,>=3.7.0->ru-core-news-sm==3.7.0) (6.4.0)\n",
      "Requirement already satisfied: thinc<8.3.0,>=8.2.2 in /opt/conda/lib/python3.10/site-packages (from spacy<3.8.0,>=3.7.0->ru-core-news-sm==3.7.0) (8.2.3)\n",
      "Requirement already satisfied: numpy>=1.19.0 in /opt/conda/lib/python3.10/site-packages (from spacy<3.8.0,>=3.7.0->ru-core-news-sm==3.7.0) (1.23.5)\n",
      "Requirement already satisfied: preshed<3.1.0,>=3.0.2 in /opt/conda/lib/python3.10/site-packages (from spacy<3.8.0,>=3.7.0->ru-core-news-sm==3.7.0) (3.0.9)\n",
      "Requirement already satisfied: murmurhash<1.1.0,>=0.28.0 in /opt/conda/lib/python3.10/site-packages (from spacy<3.8.0,>=3.7.0->ru-core-news-sm==3.7.0) (1.0.10)\n",
      "Requirement already satisfied: srsly<3.0.0,>=2.4.3 in /opt/conda/lib/python3.10/site-packages (from spacy<3.8.0,>=3.7.0->ru-core-news-sm==3.7.0) (2.4.8)\n",
      "Requirement already satisfied: cymem<2.1.0,>=2.0.2 in /opt/conda/lib/python3.10/site-packages (from spacy<3.8.0,>=3.7.0->ru-core-news-sm==3.7.0) (2.0.8)\n",
      "Requirement already satisfied: pydantic!=1.8,!=1.8.1,<3.0.0,>=1.7.4 in /opt/conda/lib/python3.10/site-packages (from spacy<3.8.0,>=3.7.0->ru-core-news-sm==3.7.0) (2.7.1)\n",
      "Requirement already satisfied: language-data>=1.2 in /opt/conda/lib/python3.10/site-packages (from langcodes<4.0.0,>=3.2.0->spacy<3.8.0,>=3.7.0->ru-core-news-sm==3.7.0) (1.2.0)\n",
      "Requirement already satisfied: pydantic-core==2.18.2 in /opt/conda/lib/python3.10/site-packages (from pydantic!=1.8,!=1.8.1,<3.0.0,>=1.7.4->spacy<3.8.0,>=3.7.0->ru-core-news-sm==3.7.0) (2.18.2)\n",
      "Requirement already satisfied: typing-extensions>=4.6.1 in /opt/conda/lib/python3.10/site-packages (from pydantic!=1.8,!=1.8.1,<3.0.0,>=1.7.4->spacy<3.8.0,>=3.7.0->ru-core-news-sm==3.7.0) (4.11.0)\n",
      "Requirement already satisfied: annotated-types>=0.4.0 in /opt/conda/lib/python3.10/site-packages (from pydantic!=1.8,!=1.8.1,<3.0.0,>=1.7.4->spacy<3.8.0,>=3.7.0->ru-core-news-sm==3.7.0) (0.6.0)\n",
      "Requirement already satisfied: urllib3<1.27,>=1.21.1 in /opt/conda/lib/python3.10/site-packages (from requests<3.0.0,>=2.13.0->spacy<3.8.0,>=3.7.0->ru-core-news-sm==3.7.0) (1.26.14)\n",
      "Requirement already satisfied: certifi>=2017.4.17 in /opt/conda/lib/python3.10/site-packages (from requests<3.0.0,>=2.13.0->spacy<3.8.0,>=3.7.0->ru-core-news-sm==3.7.0) (2022.12.7)\n",
      "Requirement already satisfied: idna<4,>=2.5 in /opt/conda/lib/python3.10/site-packages (from requests<3.0.0,>=2.13.0->spacy<3.8.0,>=3.7.0->ru-core-news-sm==3.7.0) (3.4)\n",
      "Requirement already satisfied: charset-normalizer<4,>=2 in /opt/conda/lib/python3.10/site-packages (from requests<3.0.0,>=2.13.0->spacy<3.8.0,>=3.7.0->ru-core-news-sm==3.7.0) (2.1.1)\n",
      "Requirement already satisfied: blis<0.8.0,>=0.7.8 in /opt/conda/lib/python3.10/site-packages (from thinc<8.3.0,>=8.2.2->spacy<3.8.0,>=3.7.0->ru-core-news-sm==3.7.0) (0.7.11)\n",
      "Requirement already satisfied: confection<1.0.0,>=0.0.1 in /opt/conda/lib/python3.10/site-packages (from thinc<8.3.0,>=8.2.2->spacy<3.8.0,>=3.7.0->ru-core-news-sm==3.7.0) (0.1.4)\n",
      "Requirement already satisfied: click<9.0.0,>=7.1.1 in /opt/conda/lib/python3.10/site-packages (from typer<0.10.0,>=0.3.0->spacy<3.8.0,>=3.7.0->ru-core-news-sm==3.7.0) (8.1.3)\n",
      "Requirement already satisfied: cloudpathlib<0.17.0,>=0.7.0 in /opt/conda/lib/python3.10/site-packages (from weasel<0.4.0,>=0.1.0->spacy<3.8.0,>=3.7.0->ru-core-news-sm==3.7.0) (0.16.0)\n",
      "Requirement already satisfied: MarkupSafe>=2.0 in /opt/conda/lib/python3.10/site-packages (from jinja2->spacy<3.8.0,>=3.7.0->ru-core-news-sm==3.7.0) (2.1.2)\n",
      "Requirement already satisfied: marisa-trie>=0.7.7 in /opt/conda/lib/python3.10/site-packages (from language-data>=1.2->langcodes<4.0.0,>=3.2.0->spacy<3.8.0,>=3.7.0->ru-core-news-sm==3.7.0) (1.1.0)\n",
      "Installing collected packages: pymorphy3-dicts-ru, pymorphy3, ru-core-news-sm\n",
      "Successfully installed pymorphy3-2.0.1 pymorphy3-dicts-ru-2.4.417150.4580142 ru-core-news-sm-3.7.0\n",
      "\u001b[38;5;2m✔ Download and installation successful\u001b[0m\n",
      "You can now load the package via spacy.load('ru_core_news_sm')\n"
     ]
    }
   ],
   "source": [
    "!pip install spacy\n",
    "!python -m spacy download ru_core_news_sm"
   ]
  },
  {
   "cell_type": "code",
   "execution_count": 53,
   "metadata": {
    "tags": []
   },
   "outputs": [
    {
     "name": "stdout",
     "output_type": "stream",
     "text": [
      "283 161\n"
     ]
    },
    {
     "data": {
      "text/plain": [
       "['\\n',\n",
       " 'второй',\n",
       " 'и',\n",
       " 'третий',\n",
       " 'открытый',\n",
       " 'белый',\n",
       " 'карлик',\n",
       " 'стать',\n",
       " 'сириус',\n",
       " 'b']"
      ]
     },
     "execution_count": 53,
     "metadata": {},
     "output_type": "execute_result"
    }
   ],
   "source": [
    "import spacy\n",
    "nlp = spacy.load(\"ru_core_news_sm\")\n",
    "doc = nlp(text)\n",
    "\n",
    "\n",
    "lemma_spacy = []\n",
    "for sent in doc.sents: # достаем предложения\n",
    "    for token in sent: # достаем токены\n",
    "        lemma_spacy.append(token.lemma_)\n",
    "        \n",
    "print(len(lemma_spacy), len(set(lemma_spacy)))\n",
    "\n",
    "lemma_spacy_set = set(lemma_spacy)\n",
    "lemma_spacy[:10]"
   ]
  },
  {
   "cell_type": "code",
   "execution_count": 55,
   "metadata": {
    "tags": []
   },
   "outputs": [
    {
     "data": {
      "text/plain": [
       "{'\\n\\n',\n",
       " ' \\n',\n",
       " ' (\\n',\n",
       " ' ~\\n',\n",
       " ' — \\n',\n",
       " '(',\n",
       " ')',\n",
       " ')\\n',\n",
       " '), \\n',\n",
       " ',',\n",
       " ',\\n',\n",
       " ', \\n',\n",
       " '-\\n',\n",
       " '/',\n",
       " '/\\n',\n",
       " '0',\n",
       " '1',\n",
       " '18',\n",
       " '18-дюймовый',\n",
       " '4',\n",
       " '5',\n",
       " '6',\n",
       " 'A',\n",
       " 'B',\n",
       " 'Dearborn',\n",
       " 'K',\n",
       " 'Telescope',\n",
       " '[\\n',\n",
       " ']',\n",
       " ']\\n',\n",
       " 'a',\n",
       " 'b',\n",
       " 'b.',\n",
       " 'dearborn',\n",
       " 'k',\n",
       " 'telescope',\n",
       " '~0,25',\n",
       " '~1,4',\n",
       " 'Из',\n",
       " 'бесселем[6',\n",
       " 'бесселя',\n",
       " 'было',\n",
       " 'встретить',\n",
       " 'встречать',\n",
       " 'д',\n",
       " 'д.',\n",
       " 'данный',\n",
       " 'данным',\n",
       " 'дюймовый',\n",
       " 'его',\n",
       " 'звездочка',\n",
       " 'звёздочка',\n",
       " 'измерить',\n",
       " 'измерять',\n",
       " 'кенигсбергский',\n",
       " 'кларков',\n",
       " 'которые',\n",
       " 'который',\n",
       " 'кёнигсбергский',\n",
       " 'м',\n",
       " 'м.',\n",
       " 'меньший',\n",
       " 'ниже',\n",
       " 'низкий',\n",
       " 'них',\n",
       " 'обнаруживать',\n",
       " 'обнаружить',\n",
       " 'они',\n",
       " 'открывать',\n",
       " 'открыть',\n",
       " 'поставить',\n",
       " 'поставлять',\n",
       " 'предсказанный',\n",
       " 'предсказывать',\n",
       " 'прийти',\n",
       " 'приходить',\n",
       " 'проциона',\n",
       " 'самым',\n",
       " 'сириуса',\n",
       " 'становиться',\n",
       " 'стать',\n",
       " 'сфера',\n",
       " 'сфере[5',\n",
       " 'тем',\n",
       " 'то',\n",
       " 'тот',\n",
       " 'учет',\n",
       " 'учёт',\n",
       " 'чем',\n",
       " 'чикагский',\n",
       " 'чикагского',\n",
       " 'шеберле',\n",
       " 'шеберль',\n",
       " '—'}"
      ]
     },
     "execution_count": 55,
     "metadata": {},
     "output_type": "execute_result"
    }
   ],
   "source": [
    "mystem_lemma_set.symmetric_difference(lemma_spacy_set)"
   ]
  },
  {
   "cell_type": "code",
   "execution_count": 57,
   "metadata": {
    "tags": []
   },
   "outputs": [
    {
     "data": {
      "text/plain": [
       "True"
      ]
     },
     "execution_count": 57,
     "metadata": {},
     "output_type": "execute_result"
    }
   ],
   "source": [
    "'звёздочка' in lemma_spacy_set\n",
    "# Основное отличие в сохрании буквы ё и иных начальных формах"
   ]
  },
  {
   "cell_type": "code",
   "execution_count": 56,
   "metadata": {
    "tags": []
   },
   "outputs": [
    {
     "data": {
      "text/plain": [
       "{'\\n\\n',\n",
       " ' ',\n",
       " ' (',\n",
       " ' ~',\n",
       " ' — ',\n",
       " '(',\n",
       " '), ',\n",
       " ', ',\n",
       " '-',\n",
       " '. ',\n",
       " '0',\n",
       " '1',\n",
       " '18',\n",
       " '18-дюймовый',\n",
       " '4',\n",
       " '5',\n",
       " '6',\n",
       " '[',\n",
       " 'b.',\n",
       " '~0,25',\n",
       " '~1,4',\n",
       " 'Из',\n",
       " 'анализировать',\n",
       " 'анализируя',\n",
       " 'белый',\n",
       " 'белыми',\n",
       " 'бесселем',\n",
       " 'бесселем[6',\n",
       " 'близости',\n",
       " 'близость',\n",
       " 'был',\n",
       " 'была',\n",
       " 'велика',\n",
       " 'велись',\n",
       " 'вестись',\n",
       " 'встретить',\n",
       " 'встречено',\n",
       " 'второе',\n",
       " 'второй',\n",
       " 'вторым',\n",
       " 'вывод',\n",
       " 'выводу',\n",
       " 'высокий',\n",
       " 'высокую',\n",
       " 'год',\n",
       " 'года',\n",
       " 'году',\n",
       " 'д',\n",
       " 'д.',\n",
       " 'движение',\n",
       " 'движения',\n",
       " 'должен',\n",
       " 'должна',\n",
       " 'должный',\n",
       " 'дюймовый',\n",
       " 'звёздочка',\n",
       " 'звёздочку',\n",
       " 'земного',\n",
       " 'земной',\n",
       " 'измерение',\n",
       " 'измерений',\n",
       " 'измерил',\n",
       " 'измерить',\n",
       " 'каждой',\n",
       " 'каждый',\n",
       " 'карлик',\n",
       " 'карликами',\n",
       " 'кёнигсбергский',\n",
       " 'кёнигсбергской',\n",
       " 'м',\n",
       " 'м.',\n",
       " 'массой',\n",
       " 'меньшей',\n",
       " 'мир',\n",
       " 'мире',\n",
       " 'наблюдение',\n",
       " 'наблюдений',\n",
       " 'неба',\n",
       " 'небесной',\n",
       " 'небесный',\n",
       " 'небо',\n",
       " 'ненаблюдаемый',\n",
       " 'ненаблюдаемым',\n",
       " 'непосредственной',\n",
       " 'непосредственный',\n",
       " 'ниже',\n",
       " 'низкий',\n",
       " 'обнаружил',\n",
       " 'обнаружить',\n",
       " 'обсерватории',\n",
       " 'обсерваторию',\n",
       " 'обсерватория',\n",
       " 'он',\n",
       " 'оставался',\n",
       " 'оставаться',\n",
       " 'отклоняться',\n",
       " 'отклоняются',\n",
       " 'открыл',\n",
       " 'открытый',\n",
       " 'открытыми',\n",
       " 'открыть',\n",
       " 'поверхности',\n",
       " 'поверхность',\n",
       " 'подтвердив',\n",
       " 'подтвердить',\n",
       " 'поставить',\n",
       " 'поставленный',\n",
       " 'прийти',\n",
       " 'пришёл',\n",
       " 'прямолинейной',\n",
       " 'прямолинейный',\n",
       " 'светимости',\n",
       " 'светимость',\n",
       " 'семейной',\n",
       " 'семейный',\n",
       " 'следовало',\n",
       " 'следовать',\n",
       " 'современный',\n",
       " 'современным',\n",
       " 'солнца',\n",
       " 'солнце',\n",
       " 'составляет',\n",
       " 'составлять',\n",
       " 'сравнимой',\n",
       " 'сравнимый',\n",
       " 'стали',\n",
       " 'стать',\n",
       " 'сфере',\n",
       " 'сфере[5',\n",
       " 'то',\n",
       " 'тот',\n",
       " 'траектории',\n",
       " 'траектория',\n",
       " 'третий',\n",
       " 'третьим',\n",
       " 'тусклую',\n",
       " 'тусклый',\n",
       " 'указывает',\n",
       " 'указывать',\n",
       " 'университет',\n",
       " 'университета',\n",
       " 'учёт',\n",
       " 'учётом',\n",
       " 'фирма',\n",
       " 'фирмой',\n",
       " 'юстировать',\n",
       " 'юстируя',\n",
       " 'январе',\n",
       " 'январь',\n",
       " 'яркий',\n",
       " 'ярчайшая',\n",
       " '—'}"
      ]
     },
     "execution_count": 56,
     "metadata": {},
     "output_type": "execute_result"
    }
   ],
   "source": [
    "morph_lemma_set.symmetric_difference(lemma_spacy_set)"
   ]
  },
  {
   "cell_type": "code",
   "execution_count": null,
   "metadata": {},
   "outputs": [],
   "source": []
  },
  {
   "cell_type": "markdown",
   "metadata": {},
   "source": [
    "## 5*. Дизамбигуация в Mystem (2 балла)"
   ]
  },
  {
   "cell_type": "markdown",
   "metadata": {},
   "source": [
    "*необязательное задание на 10 баллов"
   ]
  },
  {
   "cell_type": "markdown",
   "metadata": {},
   "source": [
    "Одна из фичей майстема - контекстная дизамбигуация (т.е. определение правильного разбора в зависимости от контекста)."
   ]
  },
  {
   "cell_type": "markdown",
   "metadata": {},
   "source": [
    "Запустите mystem на очищенном тексте с дизамбигуацией и без и проверьте есть ли какие-то различия."
   ]
  },
  {
   "cell_type": "code",
   "execution_count": null,
   "metadata": {},
   "outputs": [],
   "source": [
    "# ваш код"
   ]
  }
 ],
 "metadata": {
  "kernelspec": {
   "display_name": "Python 3 (ipykernel)",
   "language": "python",
   "name": "python3"
  },
  "language_info": {
   "codemirror_mode": {
    "name": "ipython",
    "version": 3
   },
   "file_extension": ".py",
   "mimetype": "text/x-python",
   "name": "python",
   "nbconvert_exporter": "python",
   "pygments_lexer": "ipython3",
   "version": "3.10.9"
  }
 },
 "nbformat": 4,
 "nbformat_minor": 4
}
